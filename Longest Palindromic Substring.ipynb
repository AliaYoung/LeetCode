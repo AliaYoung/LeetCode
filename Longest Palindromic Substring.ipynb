{
 "cells": [
  {
   "cell_type": "raw",
   "metadata": {},
   "source": [
    "Given a string s, find the longest palindromic substring in s. You may assume that the maximum length of s is 1000.\n",
    "\n",
    "Example 1:\n",
    "\n",
    "Input: \"babad\"\n",
    "Output: \"bab\"\n",
    "Note: \"aba\" is also a valid answer.\n",
    "\n",
    "Example 2:\n",
    "\n",
    "Input: \"cbbd\"\n",
    "Output: \"bb\"\n",
    "\n"
   ]
  },
  {
   "cell_type": "code",
   "execution_count": 177,
   "metadata": {},
   "outputs": [
    {
     "data": {
      "text/plain": [
       "'bab'"
      ]
     },
     "execution_count": 177,
     "metadata": {},
     "output_type": "execute_result"
    }
   ],
   "source": [
    "class Solution(object):\n",
    "    def longestPalindrome(self, s):\n",
    "        \"\"\"\n",
    "        :type s: str\n",
    "        :rtype: str\n",
    "        \"\"\"\n",
    "\n",
    "        maxLen = len(s)\n",
    "        subStr = \"\"\n",
    "        \n",
    "        while maxLen>0:\n",
    "            # print(\"maxLen\", maxLen)\n",
    "            for j in range(0, len(s)-maxLen+1):\n",
    "                subStr = s[j:j+maxLen+1]                \n",
    "                #print(j, j+maxLen, subStr)\n",
    "                \n",
    "                if subStr == subStr[::-1]:\n",
    "                    return subStr\n",
    "                    \n",
    "            maxLen -=1\n",
    "                    \n",
    "        return s\n",
    "                    \n",
    "s = \"babad\"                    \n",
    "#s = \"abcdefbqqfedcba\"      \n",
    "#s =  \"cbbd\"    \n",
    "#s =  \"bb\"\n",
    "#s = \"\"\n",
    "#s = \"eabcb\"\n",
    "#s = \"ccd\"\n",
    "sObj = Solution()\n",
    "sObj.longestPalindrome(s)\n"
   ]
  }
 ],
 "metadata": {
  "kernelspec": {
   "display_name": "Python 3",
   "language": "python",
   "name": "python3"
  },
  "language_info": {
   "codemirror_mode": {
    "name": "ipython",
    "version": 3
   },
   "file_extension": ".py",
   "mimetype": "text/x-python",
   "name": "python",
   "nbconvert_exporter": "python",
   "pygments_lexer": "ipython3",
   "version": "3.6.5"
  }
 },
 "nbformat": 4,
 "nbformat_minor": 2
}
