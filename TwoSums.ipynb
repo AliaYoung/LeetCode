{
 "cells": [
  {
   "cell_type": "raw",
   "metadata": {},
   "source": [
    "https://leetcode.com/problems/two-sum/description/\n",
    "\n",
    "Given an array of integers, return indices of the two numbers such that they add up to a specific target.\n",
    "\n",
    "You may assume that each input would have exactly one solution, and you may not use the same element twice.\n",
    "\n",
    "Example:\n",
    "\n",
    "Given nums = [2, 7, 11, 15], target = 9,\n",
    "\n",
    "Because nums[0] + nums[1] = 2 + 7 = 9,\n",
    "return [0, 1].\n"
   ]
  },
  {
   "cell_type": "code",
   "execution_count": 1,
   "metadata": {},
   "outputs": [
    {
     "name": "stdout",
     "output_type": "stream",
     "text": [
      "2\n",
      "range(1, 8)\n"
     ]
    },
    {
     "data": {
      "text/plain": [
       "[0, 6]"
      ]
     },
     "execution_count": 1,
     "metadata": {},
     "output_type": "execute_result"
    }
   ],
   "source": [
    "# My brute force approach, with O(n^2)\n",
    "\n",
    "class Solution(object):\n",
    "    def twoSum(self, nums, target):\n",
    "        \"\"\"\n",
    "        :type nums: List[int]\n",
    "        :type target: int\n",
    "        :rtype: List[int]\n",
    "        \"\"\"\n",
    "        print(nums[0])\n",
    "        print(range(1,len(nums)))\n",
    "        \n",
    "        for ndx1 in range(len(nums)):\n",
    "            for ndx2 in range(ndx1+1, len(nums)):\n",
    "                if nums[ndx1]+nums[ndx2]==target:\n",
    "                    return [ndx1, ndx2]\n",
    "            \n",
    "        \n",
    "# Testing the code        \n",
    "nums = [2, 7, 11, 15, 0, 100, 1, 2]\n",
    "target = 3\n",
    "sObj = Solution()\n",
    "sObj.twoSum(nums, target)"
   ]
  },
  {
   "cell_type": "code",
   "execution_count": 2,
   "metadata": {},
   "outputs": [
    {
     "data": {
      "text/plain": [
       "(0, 6)"
      ]
     },
     "execution_count": 2,
     "metadata": {},
     "output_type": "execute_result"
    }
   ],
   "source": [
    "# Solution from the web via user zk584807419   29 June 22, 2018 1:25 AM\n",
    "\n",
    "# Single Pass Hashmap via Dictionary O(n) for the pass, and O(1) for the lookup\n",
    "\n",
    "# Possible collisions in Dictionary?\n",
    "\n",
    "class Solution:\n",
    "    def twoSum(self, nums, target):\n",
    "        \"\"\"\n",
    "        :type nums: List[int]\n",
    "        :type target: int\n",
    "        :rtype: List[int]\n",
    "        \"\"\"\n",
    "        dict = {}\n",
    "        for i in range(len(nums)):\n",
    "            x = nums[i]\n",
    "            if target-x in dict:\n",
    "                return (dict[target-x],i)\n",
    "            dict[x] = i\n",
    "            \n",
    "            \n",
    "# Testing the code        \n",
    "nums = [2, 7, 11, 15, 0, 100, 1, 2]\n",
    "target = 3\n",
    "sObj = Solution()\n",
    "sObj.twoSum(nums, target)"
   ]
  }
 ],
 "metadata": {
  "kernelspec": {
   "display_name": "Python 3",
   "language": "python",
   "name": "python3"
  },
  "language_info": {
   "codemirror_mode": {
    "name": "ipython",
    "version": 3
   },
   "file_extension": ".py",
   "mimetype": "text/x-python",
   "name": "python",
   "nbconvert_exporter": "python",
   "pygments_lexer": "ipython3",
   "version": "3.6.5"
  }
 },
 "nbformat": 4,
 "nbformat_minor": 2
}
