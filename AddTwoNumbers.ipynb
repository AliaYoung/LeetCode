{
 "cells": [
  {
   "cell_type": "raw",
   "metadata": {},
   "source": [
    "https://leetcode.com/problems/add-two-numbers/description/\n",
    "\n",
    "You are given two non-empty linked lists representing two non-negative integers. The digits are stored in reverse order and each of their nodes contain a single digit. Add the two numbers and return it as a linked list.\n",
    "\n",
    "You may assume the two numbers do not contain any leading zero, except the number 0 itself.\n",
    "\n",
    " Example\n",
    "\n",
    "Input: (2 -> 4 -> 3) + (5 -> 6 -> 4)\n",
    "Output: 7 -> 0 -> 8\n",
    "Explanation: 342 + 465 = 807.\n"
   ]
  },
  {
   "cell_type": "code",
   "execution_count": 59,
   "metadata": {},
   "outputs": [
    {
     "name": "stdout",
     "output_type": "stream",
     "text": [
      "0\n",
      "1\n",
      "2\n",
      "1\n",
      "0\n"
     ]
    }
   ],
   "source": [
    "# Definition for singly-linked list.\n",
    "class ListNode(object):\n",
    "    def __init__(self, x):\n",
    "        self.val = x\n",
    "        self.next = None\n",
    "\n",
    "        \n",
    "def printList(nodeStart):\n",
    "    print(nodeStart.val)\n",
    "    if nodeStart.next == None:\n",
    "        return\n",
    "    else:\n",
    "        printList(nodeStart.next)\n",
    "\n",
    "class Solution(object):\n",
    "    def addTwoNumbers(self, l1, l2):\n",
    "        \"\"\"\n",
    "        :type l1: ListNode\n",
    "        :type l2: ListNode\n",
    "        :rtype: ListNode\n",
    "        \"\"\"\n",
    "            \n",
    "        if l1 == None:\n",
    "            return l2\n",
    "            \n",
    "        if l2 == None:\n",
    "            return l1\n",
    "            \n",
    "        sval = l1.val + l2.val\n",
    "        #if sval == 0:\n",
    "        #    return ListNode(0)\n",
    "        if sval < 10:\n",
    "            ansNode = ListNode(sval)\n",
    "            ansNode.next = self.addTwoNumbers(l1.next, l2.next)\n",
    "            return ansNode\n",
    "        else:\n",
    "            rval = l1.val + l2.val-10\n",
    "            ansNode = ListNode(rval)\n",
    "            ansNode.next = self.addTwoNumbers(ListNode(1), self.addTwoNumbers(l1.next, l2.next))\n",
    "            return ansNode\n",
    "\n",
    "\n",
    "        \n",
    "sObj = Solution()\n",
    "node1 = ListNode(0)\n",
    "node2 = ListNode(1)\n",
    "node3 = ListNode(3)\n",
    "node1.next = node2\n",
    "node2.next = node3\n",
    "list1 = node1\n",
    "#printList(list1)\n",
    "\n",
    "node1 = ListNode(0)\n",
    "node2 = ListNode(0)\n",
    "node3 = ListNode(9)\n",
    "node1.next = node2\n",
    "node2.next = node3\n",
    "list2 = node1\n",
    "#printList(list2)\n",
    "\n",
    "ans = sObj.addTwoNumbers(list1, list2)\n",
    "printList(ans)\n",
    "\n",
    "node1 = ListNode(0)\n",
    "node2 = ListNode(0)\n",
    "ans = sObj.addTwoNumbers(node1, node2)\n",
    "printList(ans)\n",
    "\n"
   ]
  }
 ],
 "metadata": {
  "kernelspec": {
   "display_name": "Python 3",
   "language": "python",
   "name": "python3"
  },
  "language_info": {
   "codemirror_mode": {
    "name": "ipython",
    "version": 3
   },
   "file_extension": ".py",
   "mimetype": "text/x-python",
   "name": "python",
   "nbconvert_exporter": "python",
   "pygments_lexer": "ipython3",
   "version": "3.6.5"
  }
 },
 "nbformat": 4,
 "nbformat_minor": 2
}
